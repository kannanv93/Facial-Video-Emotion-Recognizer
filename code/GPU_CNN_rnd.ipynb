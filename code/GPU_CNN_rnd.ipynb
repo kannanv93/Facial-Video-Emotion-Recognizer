{
 "cells": [
  {
   "cell_type": "code",
   "execution_count": 13,
   "metadata": {},
   "outputs": [],
   "source": [
    "#import cv2\n",
    "import numpy as np\n",
    "import pandas as pd\n",
    "import os\n",
    "from tqdm import tqdm, tqdm_notebook\n",
    "#from joblib import Parallel, delayed\n",
    "#from skimage.io import imread\n",
    "#from skimage.transform import resize\n",
    "#import matplotlib.pyplot as plt\n",
    "\n",
    "import pandas as pd\n",
    "import numpy as np\n",
    "from tqdm import tqdm\n",
    "\n",
    "# for reading and displaying images\n",
    "\n",
    "#%matplotlib inline\n",
    "\n",
    "# for creating validation set\n",
    "from sklearn.model_selection import train_test_split\n",
    "\n",
    "# for evaluating the model\n",
    "from sklearn.metrics import accuracy_score\n",
    "\n",
    "# PyTorch libraries and modules\n",
    "import torch\n",
    "import torch.nn as nn\n",
    "from torch.autograd import Variable\n",
    "from torch.nn import Linear, ReLU, CrossEntropyLoss, Sequential, Conv2d, MaxPool2d, Module, Softmax, BatchNorm2d, Dropout,AdaptiveAvgPool2d\n",
    "from torch.optim import Adam, SGD\n",
    "\n",
    "# torchvision for pre-trained models\n",
    "from torchvision import models\n",
    "from torchsummary import summary\n",
    "\n",
    "\n",
    "import shutil, sys   \n",
    "#from google.colab.patches import cv2_imshow\n",
    "import copy\n",
    "\n",
    "\n",
    "\n",
    "#from __future__ import print_function, division\n",
    "\n",
    "import torch\n",
    "import torch.nn as nn\n",
    "import torch.optim as optim\n",
    "from torch.optim import lr_scheduler\n",
    "import numpy as np\n",
    "import torchvision\n",
    "from torchvision import datasets, models, transforms\n",
    "import time\n",
    "import os\n",
    "import copy\n",
    "#plt.ion()  \n",
    "\n",
    "from torchvision import transforms\n",
    "from torchvision import datasets\n",
    "from torch.utils.data import DataLoader"
   ]
  },
  {
   "cell_type": "code",
   "execution_count": 2,
   "metadata": {},
   "outputs": [
    {
     "data": {
      "text/plain": [
       "device(type='cuda', index=0)"
      ]
     },
     "execution_count": 2,
     "metadata": {},
     "output_type": "execute_result"
    }
   ],
   "source": [
    "torch.device('cuda:0' if torch.cuda.is_available() else 'cpu')"
   ]
  },
  {
   "cell_type": "code",
   "execution_count": 3,
   "metadata": {},
   "outputs": [
    {
     "data": {
      "text/plain": [
       "device(type='cuda')"
      ]
     },
     "execution_count": 3,
     "metadata": {},
     "output_type": "execute_result"
    }
   ],
   "source": [
    "device = torch.device('cuda' if torch.cuda.is_available() else 'cpu')\n",
    "device"
   ]
  },
  {
   "cell_type": "code",
   "execution_count": 4,
   "metadata": {},
   "outputs": [],
   "source": [
    "# Change to fit hardware\n",
    "BATCH_SIZE = 64\n",
    "print_every = 50\n",
    "MODEL = 'alexnet'"
   ]
  },
  {
   "cell_type": "code",
   "execution_count": 5,
   "metadata": {},
   "outputs": [],
   "source": [
    "data_transforms = {\n",
    "    'train': transforms.Compose([\n",
    "        #transforms.RandomResizedCrop(size=256, scale=(0.8, 1.0)),\n",
    "        transforms.CenterCrop(224),\n",
    "        transforms.ToTensor(),\n",
    "        transforms.Normalize([0.485, 0.456, 0.406], [0.229, 0.224, 0.225])\n",
    "    ]),\n",
    "    'val': transforms.Compose([\n",
    "        transforms.CenterCrop(224),\n",
    "        transforms.ToTensor(),\n",
    "        transforms.Normalize([0.485, 0.456, 0.406], [0.229, 0.224, 0.225])\n",
    "    ]),\n",
    "    'test': transforms.Compose([\n",
    "        transforms.CenterCrop(224),\n",
    "        transforms.ToTensor(),\n",
    "        transforms.Normalize([0.485, 0.456, 0.406], [0.229, 0.224, 0.225])\n",
    "    ]),\n",
    "}\n",
    "\n",
    "data_dir = '/scratch/kv942/ccm_proj/datadir_rnd/'\n",
    "image_datasets = {x: datasets.ImageFolder(os.path.join(data_dir, x),\n",
    "                                          data_transforms[x])\n",
    "                  for x in ['train', 'val','test']}\n",
    "\n",
    "train_loader = DataLoader(image_datasets['train'],\n",
    "                          batch_size=BATCH_SIZE,\n",
    "                          shuffle=True,\n",
    "                          )\n",
    "val_loader = DataLoader(image_datasets['val'],\n",
    "                         batch_size=BATCH_SIZE,\n",
    "                         shuffle=True,\n",
    "                         )\n",
    "test_loader = DataLoader(image_datasets['test'],\n",
    "                          batch_size=BATCH_SIZE,\n",
    "                          shuffle=False,\n",
    "                          )\n",
    "\n",
    "dataset_sizes = {x: len(image_datasets[x]) for x in ['train', 'val']}\n",
    "class_names = image_datasets['train'].classes\n"
   ]
  },
  {
   "cell_type": "code",
   "execution_count": 6,
   "metadata": {},
   "outputs": [
    {
     "data": {
      "text/plain": [
       "{'train': 38691, 'val': 4836}"
      ]
     },
     "execution_count": 6,
     "metadata": {},
     "output_type": "execute_result"
    }
   ],
   "source": [
    "dataset_sizes"
   ]
  },
  {
   "cell_type": "code",
   "execution_count": 7,
   "metadata": {},
   "outputs": [],
   "source": [
    "def imshow(inp, title=None):\n",
    "    \"\"\"Imshow for Tensor.\"\"\"\n",
    "    inp = inp.numpy().transpose((1, 2, 0))\n",
    "    mean = np.array([0.485, 0.456, 0.406])\n",
    "    std = np.array([0.229, 0.224, 0.225])\n",
    "    inp = std * inp + mean\n",
    "    inp = np.clip(inp, 0, 1)\n",
    "    plt.imshow(inp)\n",
    "    if title is not None:\n",
    "        plt.title(title)\n",
    "    plt.pause(0.001)  # pause a bit so that plots are updated\n"
   ]
  },
  {
   "cell_type": "code",
   "execution_count": 8,
   "metadata": {},
   "outputs": [],
   "source": [
    "# inputs, classes = next(iter(dataloaders['train']))\n",
    "# out = torchvision.utils.make_grid(inputs)\n",
    "#imshow(out, title=[class_names[x] for x in classes])"
   ]
  },
  {
   "cell_type": "code",
   "execution_count": 9,
   "metadata": {},
   "outputs": [],
   "source": [
    "def train_model(model, criterion, optimizer, scheduler, num_epochs=25):\n",
    "    \n",
    "    # Training steps\n",
    "    since = time.time()\n",
    "    best_model_wts = copy.deepcopy(model.state_dict())\n",
    "    best_acc = 0.0\n",
    "    \n",
    "    for epoch in range(num_epochs):\n",
    "        print(\"Epoch: \", epoch)\n",
    "        model.train()\n",
    "        \n",
    "        running_loss = 0.0   \n",
    "        running_corrects = 0\n",
    "        number_training_steps = 0\n",
    "        # Iterate over data.\n",
    "        for batch_id, (inputs, labels) in enumerate(train_loader):\n",
    "            \n",
    "            inputs, labels = Variable(inputs).to(device), Variable(labels).to(device)\n",
    "            outputs = model(inputs)\n",
    "            model.zero_grad() #same as optimizer.zero_grad()\n",
    "            \n",
    "            loss = criterion(outputs, labels)\n",
    "            running_loss += loss.item() # sum up loss of all minibatches\n",
    "            \n",
    "            _, preds = torch.max(outputs, 1)\n",
    "            running_corrects += torch.sum(preds == labels.data).cpu()\n",
    "            \n",
    "            loss.backward()\n",
    "            optimizer.step()\n",
    "            number_training_steps+=1\n",
    "            \n",
    "            if batch_id % print_every == 0:\n",
    "                # report performance\n",
    "                print('Train [{}/{} ({:.0f}%)]\\tLoss: {:.6f}'.format(\n",
    "                batch_id * len(inputs), len(train_loader.dataset),\n",
    "                100. * batch_id / len(train_loader), loss.item()))\n",
    "\n",
    "        scheduler.step()\n",
    "        \n",
    "        epoch_trainloss = running_loss / number_training_steps\n",
    "        #train_loss_list.append(epoch_trainloss)\n",
    "        epoch_trainaccuracy = running_corrects.double() / len(train_loader.dataset)\n",
    "        #train_acc_list.append(epoch_trainaccuracy)\n",
    "        \n",
    "        # report performance\n",
    "        print('Train set: Average loss: {:.4f}, Accuracy: {}/{} ({:.2f}%)'.format(\n",
    "        epoch_trainloss, running_corrects, len(train_loader.dataset),\n",
    "        100. * epoch_trainaccuracy))\n",
    "        \n",
    "        \n",
    "    \n",
    "        # Evaluate after every epoch\n",
    "        \n",
    "        model.eval()\n",
    "        running_loss = 0\n",
    "        running_corrects = 0\n",
    "\n",
    "        with torch.no_grad():\n",
    "            \n",
    "            number_val_steps = 0\n",
    "            for batch_id, (inputs, labels) in enumerate(val_loader):\n",
    "                inputs, labels = Variable(inputs.to(device)), Variable(labels.to(device))\n",
    "                #print(\"labels = \", labels)\n",
    "                outputs = model(inputs)\n",
    "                #print(\"outputs = \", outputs)\n",
    "                loss = criterion(outputs, labels)\n",
    "                running_loss += loss.item() # sum up loss of all minibatches\n",
    "                number_val_steps += 1\n",
    "                \n",
    "                _, preds = torch.max(outputs, 1)\n",
    "                running_corrects += torch.sum(preds == labels.data).cpu()\n",
    "                \n",
    "            \n",
    "            epoch_valloss = running_loss / number_val_steps\n",
    "            #val_loss_list.append(epoch_valloss)\n",
    "            epoch_valaccuracy = running_corrects.double() / len(val_loader.dataset)\n",
    "            #val_acc_list.append(epoch_valaccuracy)\n",
    "            #auc = roc_auc_score(truths, predictions)\n",
    "            \n",
    "            print('Validation set: Average loss: {:.4f}, Accuracy: {}/{} ({:.2f}%)\\n'.format(\n",
    "            epoch_valloss, running_corrects, len(val_loader.dataset),\n",
    "            100. * epoch_valaccuracy))\n",
    "    \n",
    "        # deep copy the model\n",
    "        if epoch_valaccuracy > best_acc:\n",
    "                best_acc = epoch_valaccuracy\n",
    "                best_model_wts = copy.deepcopy(model.state_dict())\n",
    "    \n",
    "    \n",
    "    time_elapsed = time.time() - since\n",
    "    print('Training complete in {:.0f}m {:.0f}s'.format(\n",
    "        time_elapsed // 60, time_elapsed % 60))\n",
    "    print('Best val Acc: {:4f}'.format(best_acc))\n",
    "    \n",
    "    # load best model weights\n",
    "    model.load_state_dict(best_model_wts)\n",
    "    return model"
   ]
  },
  {
   "cell_type": "code",
   "execution_count": 10,
   "metadata": {},
   "outputs": [],
   "source": [
    "def visualize_model(model, num_images=6):\n",
    "    was_training = model.training\n",
    "    model.eval()\n",
    "    images_so_far = 0\n",
    "    fig = plt.figure()\n",
    "\n",
    "    with torch.no_grad():\n",
    "        for i, (inputs, labels) in enumerate(val_loader):\n",
    "            inputs = inputs.to(device)\n",
    "            labels = labels.to(device)\n",
    "\n",
    "            outputs = model(inputs)\n",
    "            _, preds = torch.max(outputs, 1)\n",
    "\n",
    "            for j in range(inputs.size()[0]):\n",
    "                images_so_far += 1\n",
    "                ax = plt.subplot(num_images//2, 2, images_so_far)\n",
    "                ax.axis('off')\n",
    "                ax.set_title('predicted: {}'.format(class_names[preds[j]]))\n",
    "                imshow(inputs.cpu().data[j])\n",
    "\n",
    "                if images_so_far == num_images:\n",
    "                    model.train(mode=was_training)\n",
    "                    return\n",
    "        model.train(mode=was_training)"
   ]
  },
  {
   "cell_type": "code",
   "execution_count": 11,
   "metadata": {},
   "outputs": [],
   "source": [
    "def test_performance(model):\n",
    "    running_loss = 0\n",
    "    running_corrects = 0\n",
    "    with torch.no_grad():\n",
    "\n",
    "        number_test_steps = 0\n",
    "        for batch_id, (inputs, labels) in enumerate(test_loader):\n",
    "            inputs, labels = Variable(inputs.to(device)), Variable(labels.to(device))\n",
    "            #print(\"labels = \", labels)\n",
    "            outputs = model(inputs)\n",
    "            #print(\"outputs = \", outputs)\n",
    "            loss = criterion(outputs, labels)\n",
    "            running_loss += loss.item() # sum up loss of all minibatches\n",
    "            number_test_steps += 1\n",
    "\n",
    "            _, preds = torch.max(outputs, 1)\n",
    "            running_corrects += torch.sum(preds == labels.data).cpu()\n",
    "\n",
    "\n",
    "        epoch_testloss = running_loss / number_test_steps\n",
    "        #val_loss_list.append(epoch_valloss)\n",
    "        epoch_testaccuracy = running_corrects.double() / len(test_loader.dataset)\n",
    "        #val_acc_list.append(epoch_valaccuracy)\n",
    "        #auc = roc_auc_score(truths, predictions)\n",
    "\n",
    "        print('Test set: Average loss: {:.4f}, Accuracy: {}/{} ({:.2f}%)\\n'.format(\n",
    "        epoch_testloss, running_corrects, len(test_loader.dataset),\n",
    "        100. * epoch_testaccuracy))\n"
   ]
  },
  {
   "cell_type": "markdown",
   "metadata": {},
   "source": [
    "# 3Layer CNN"
   ]
  },
  {
   "cell_type": "code",
   "execution_count": null,
   "metadata": {},
   "outputs": [],
   "source": []
  },
  {
   "cell_type": "code",
   "execution_count": 14,
   "metadata": {},
   "outputs": [],
   "source": [
    "class ConvNet(nn.Module):\n",
    "    def __init__(self, num_classes=10):\n",
    "        super(ConvNet, self).__init__()\n",
    "        self.layer1 = nn.Sequential(\n",
    "            nn.Conv2d(3, 64, kernel_size=3, stride=1, padding=1),\n",
    "            nn.BatchNorm2d(64),\n",
    "            nn.ReLU())\n",
    "            #nn.MaxPool2d(kernel_size=2, stride=2))\n",
    "        self.layer2 = nn.Sequential(\n",
    "            nn.Conv2d(64, 128, kernel_size=3, stride=1, padding=1),\n",
    "            nn.BatchNorm2d(128),\n",
    "            nn.ReLU(),\n",
    "            nn.MaxPool2d(kernel_size=2, stride=2))\n",
    "        self.layer3 = nn.Sequential(\n",
    "            nn.Conv2d(128, 128, kernel_size=3, stride=1, padding=1),\n",
    "            nn.BatchNorm2d(128),\n",
    "            nn.ReLU())\n",
    "            #nn.MaxPool2d(kernel_size=2, stride=2))\n",
    "        \n",
    "        self.avg = AdaptiveAvgPool2d(output_size=(1, 1))\n",
    "        self.fc = nn.Linear(128, num_classes)\n",
    "        \n",
    "    def forward(self, x):\n",
    "        out = self.layer1(x)\n",
    "        out = self.layer2(out)\n",
    "        #out = self.layer3(out)\n",
    "        out = self.avg(out)\n",
    "        out = out.reshape(out.size(0), -1)\n",
    "        out = self.fc(out)\n",
    "        return out\n",
    "\n",
    "model = ConvNet(len(class_names))"
   ]
  },
  {
   "cell_type": "code",
   "execution_count": 15,
   "metadata": {},
   "outputs": [],
   "source": [
    "if torch.cuda.device_count() > 1:\n",
    "    print(\"we have multiple GPUs..\")\n",
    "    model = nn.DataParallel(model)\n"
   ]
  },
  {
   "cell_type": "code",
   "execution_count": 16,
   "metadata": {},
   "outputs": [],
   "source": [
    "model = model.to(device)"
   ]
  },
  {
   "cell_type": "code",
   "execution_count": 17,
   "metadata": {},
   "outputs": [],
   "source": [
    "torch.cuda.empty_cache()"
   ]
  },
  {
   "cell_type": "code",
   "execution_count": 18,
   "metadata": {
    "scrolled": true
   },
   "outputs": [
    {
     "name": "stdout",
     "output_type": "stream",
     "text": [
      "----------------------------------------------------------------\n",
      "        Layer (type)               Output Shape         Param #\n",
      "================================================================\n",
      "            Conv2d-1         [64, 64, 224, 224]           1,792\n",
      "       BatchNorm2d-2         [64, 64, 224, 224]             128\n",
      "              ReLU-3         [64, 64, 224, 224]               0\n",
      "            Conv2d-4        [64, 128, 224, 224]          73,856\n",
      "       BatchNorm2d-5        [64, 128, 224, 224]             256\n",
      "              ReLU-6        [64, 128, 224, 224]               0\n",
      "         MaxPool2d-7        [64, 128, 112, 112]               0\n",
      " AdaptiveAvgPool2d-8            [64, 128, 1, 1]               0\n",
      "            Linear-9                    [64, 8]           1,032\n",
      "================================================================\n",
      "Total params: 77,064\n",
      "Trainable params: 77,064\n",
      "Non-trainable params: 0\n",
      "----------------------------------------------------------------\n",
      "Input size (MB): 36.75\n",
      "Forward/backward pass size (MB): 14896.07\n",
      "Params size (MB): 0.29\n",
      "Estimated Total Size (MB): 14933.11\n",
      "----------------------------------------------------------------\n"
     ]
    }
   ],
   "source": [
    "summary(model, input_size=(3, 224, 224), batch_size=BATCH_SIZE, device='cuda')"
   ]
  },
  {
   "cell_type": "code",
   "execution_count": 19,
   "metadata": {},
   "outputs": [],
   "source": [
    "num_epochs = 25\n",
    "\n",
    "criterion = nn.CrossEntropyLoss()\n",
    "\n",
    "optimizer = optim.Adam(model.parameters())\n",
    "\n",
    "# Decay LR by a factor of 0.1 every 7 epochs\n",
    "exp_lr_scheduler = lr_scheduler.StepLR(optimizer, step_size=7, gamma=0.1)"
   ]
  },
  {
   "cell_type": "code",
   "execution_count": null,
   "metadata": {},
   "outputs": [
    {
     "name": "stdout",
     "output_type": "stream",
     "text": [
      "Epoch:  0\n",
      "Train [0/38691 (0%)]\tLoss: 2.072790\n",
      "Train [3200/38691 (8%)]\tLoss: 1.960735\n",
      "Train [6400/38691 (17%)]\tLoss: 1.909036\n",
      "Train [9600/38691 (25%)]\tLoss: 1.889530\n",
      "Train [12800/38691 (33%)]\tLoss: 1.859511\n",
      "Train [16000/38691 (41%)]\tLoss: 1.908054\n",
      "Train [19200/38691 (50%)]\tLoss: 1.884003\n",
      "Train [22400/38691 (58%)]\tLoss: 1.903271\n",
      "Train [25600/38691 (66%)]\tLoss: 1.885284\n",
      "Train [28800/38691 (74%)]\tLoss: 1.742159\n",
      "Train [32000/38691 (83%)]\tLoss: 1.906980\n",
      "Train [35200/38691 (91%)]\tLoss: 1.756655\n",
      "Train [38400/38691 (99%)]\tLoss: 1.842178\n",
      "Train set: Average loss: 1.8751, Accuracy: 11012/38691 (28.46%)\n",
      "Validation set: Average loss: 1.8586, Accuracy: 1307/4836 (27.03%)\n",
      "\n",
      "Epoch:  1\n",
      "Train [0/38691 (0%)]\tLoss: 1.760779\n",
      "Train [3200/38691 (8%)]\tLoss: 1.922199\n",
      "Train [6400/38691 (17%)]\tLoss: 1.761991\n",
      "Train [9600/38691 (25%)]\tLoss: 1.808855\n",
      "Train [12800/38691 (33%)]\tLoss: 1.669739\n",
      "Train [16000/38691 (41%)]\tLoss: 1.801994\n",
      "Train [19200/38691 (50%)]\tLoss: 1.829875\n",
      "Train [22400/38691 (58%)]\tLoss: 1.786585\n",
      "Train [25600/38691 (66%)]\tLoss: 1.817133\n",
      "Train [28800/38691 (74%)]\tLoss: 1.651132\n",
      "Train [32000/38691 (83%)]\tLoss: 1.684238\n",
      "Train [35200/38691 (91%)]\tLoss: 1.871866\n",
      "Train [38400/38691 (99%)]\tLoss: 1.801189\n",
      "Train set: Average loss: 1.7706, Accuracy: 13060/38691 (33.75%)\n",
      "Validation set: Average loss: 1.7595, Accuracy: 1679/4836 (34.72%)\n",
      "\n",
      "Epoch:  2\n",
      "Train [0/38691 (0%)]\tLoss: 1.867442\n",
      "Train [3200/38691 (8%)]\tLoss: 1.801126\n",
      "Train [6400/38691 (17%)]\tLoss: 1.720896\n",
      "Train [9600/38691 (25%)]\tLoss: 1.772823\n",
      "Train [12800/38691 (33%)]\tLoss: 1.689018\n",
      "Train [16000/38691 (41%)]\tLoss: 1.688136\n",
      "Train [19200/38691 (50%)]\tLoss: 1.593603\n",
      "Train [22400/38691 (58%)]\tLoss: 1.693133\n",
      "Train [25600/38691 (66%)]\tLoss: 1.687643\n",
      "Train [28800/38691 (74%)]\tLoss: 1.737539\n",
      "Train [32000/38691 (83%)]\tLoss: 1.644184\n",
      "Train [35200/38691 (91%)]\tLoss: 1.637378\n",
      "Train [38400/38691 (99%)]\tLoss: 1.719003\n",
      "Train set: Average loss: 1.6990, Accuracy: 14436/38691 (37.31%)\n",
      "Validation set: Average loss: 1.7735, Accuracy: 1642/4836 (33.95%)\n",
      "\n",
      "Epoch:  3\n",
      "Train [0/38691 (0%)]\tLoss: 1.698841\n",
      "Train [3200/38691 (8%)]\tLoss: 1.638409\n",
      "Train [6400/38691 (17%)]\tLoss: 1.493942\n",
      "Train [9600/38691 (25%)]\tLoss: 1.682657\n",
      "Train [12800/38691 (33%)]\tLoss: 1.622603\n",
      "Train [16000/38691 (41%)]\tLoss: 1.689260\n",
      "Train [19200/38691 (50%)]\tLoss: 1.608175\n",
      "Train [22400/38691 (58%)]\tLoss: 1.612620\n",
      "Train [25600/38691 (66%)]\tLoss: 1.596369\n",
      "Train [28800/38691 (74%)]\tLoss: 1.709609\n",
      "Train [32000/38691 (83%)]\tLoss: 1.591904\n",
      "Train [35200/38691 (91%)]\tLoss: 1.677142\n",
      "Train [38400/38691 (99%)]\tLoss: 1.655613\n",
      "Train set: Average loss: 1.6428, Accuracy: 15310/38691 (39.57%)\n",
      "Validation set: Average loss: 1.7565, Accuracy: 1549/4836 (32.03%)\n",
      "\n",
      "Epoch:  4\n",
      "Train [0/38691 (0%)]\tLoss: 1.472839\n",
      "Train [3200/38691 (8%)]\tLoss: 1.689107\n",
      "Train [6400/38691 (17%)]\tLoss: 1.613966\n",
      "Train [9600/38691 (25%)]\tLoss: 1.740870\n",
      "Train [12800/38691 (33%)]\tLoss: 1.584468\n",
      "Train [16000/38691 (41%)]\tLoss: 1.640662\n",
      "Train [19200/38691 (50%)]\tLoss: 1.509283\n",
      "Train [22400/38691 (58%)]\tLoss: 1.554699\n",
      "Train [25600/38691 (66%)]\tLoss: 1.531600\n",
      "Train [28800/38691 (74%)]\tLoss: 1.640741\n",
      "Train [32000/38691 (83%)]\tLoss: 1.726200\n",
      "Train [35200/38691 (91%)]\tLoss: 1.508546\n",
      "Train [38400/38691 (99%)]\tLoss: 1.596060\n",
      "Train set: Average loss: 1.5955, Accuracy: 16086/38691 (41.58%)\n",
      "Validation set: Average loss: 1.7988, Accuracy: 1545/4836 (31.95%)\n",
      "\n",
      "Epoch:  5\n",
      "Train [0/38691 (0%)]\tLoss: 1.520189\n",
      "Train [3200/38691 (8%)]\tLoss: 1.479710\n",
      "Train [6400/38691 (17%)]\tLoss: 1.491112\n",
      "Train [9600/38691 (25%)]\tLoss: 1.617335\n",
      "Train [12800/38691 (33%)]\tLoss: 1.497426\n",
      "Train [16000/38691 (41%)]\tLoss: 1.900004\n",
      "Train [19200/38691 (50%)]\tLoss: 1.294282\n",
      "Train [22400/38691 (58%)]\tLoss: 1.506400\n",
      "Train [25600/38691 (66%)]\tLoss: 1.482219\n",
      "Train [28800/38691 (74%)]\tLoss: 1.602195\n",
      "Train [32000/38691 (83%)]\tLoss: 1.493503\n",
      "Train [35200/38691 (91%)]\tLoss: 1.577894\n",
      "Train [38400/38691 (99%)]\tLoss: 1.664166\n",
      "Train set: Average loss: 1.5462, Accuracy: 16909/38691 (43.70%)\n",
      "Validation set: Average loss: 1.6767, Accuracy: 1731/4836 (35.79%)\n",
      "\n",
      "Epoch:  6\n",
      "Train [0/38691 (0%)]\tLoss: 1.626707\n",
      "Train [3200/38691 (8%)]\tLoss: 1.412085\n",
      "Train [6400/38691 (17%)]\tLoss: 1.369009\n",
      "Train [9600/38691 (25%)]\tLoss: 1.515465\n",
      "Train [12800/38691 (33%)]\tLoss: 1.695653\n",
      "Train [16000/38691 (41%)]\tLoss: 1.369871\n",
      "Train [19200/38691 (50%)]\tLoss: 1.467095\n",
      "Train [22400/38691 (58%)]\tLoss: 1.473806\n",
      "Train [25600/38691 (66%)]\tLoss: 1.549497\n",
      "Train [28800/38691 (74%)]\tLoss: 1.325703\n",
      "Train [32000/38691 (83%)]\tLoss: 1.541171\n",
      "Train [35200/38691 (91%)]\tLoss: 1.599904\n",
      "Train [38400/38691 (99%)]\tLoss: 1.538363\n",
      "Train set: Average loss: 1.5101, Accuracy: 17482/38691 (45.18%)\n",
      "Validation set: Average loss: 1.6265, Accuracy: 1848/4836 (38.21%)\n",
      "\n",
      "Epoch:  7\n",
      "Train [0/38691 (0%)]\tLoss: 1.462921\n",
      "Train [3200/38691 (8%)]\tLoss: 1.386171\n",
      "Train [6400/38691 (17%)]\tLoss: 1.478882\n",
      "Train [9600/38691 (25%)]\tLoss: 1.639873\n",
      "Train [12800/38691 (33%)]\tLoss: 1.396141\n",
      "Train [16000/38691 (41%)]\tLoss: 1.198751\n",
      "Train [19200/38691 (50%)]\tLoss: 1.507650\n",
      "Train [22400/38691 (58%)]\tLoss: 1.392580\n",
      "Train [25600/38691 (66%)]\tLoss: 1.421325\n",
      "Train [28800/38691 (74%)]\tLoss: 1.453769\n",
      "Train [32000/38691 (83%)]\tLoss: 1.310833\n",
      "Train [35200/38691 (91%)]\tLoss: 1.638743\n",
      "Train [38400/38691 (99%)]\tLoss: 1.435122\n",
      "Train set: Average loss: 1.4439, Accuracy: 18800/38691 (48.59%)\n",
      "Validation set: Average loss: 1.4455, Accuracy: 2371/4836 (49.03%)\n",
      "\n",
      "Epoch:  8\n",
      "Train [0/38691 (0%)]\tLoss: 1.280771\n",
      "Train [3200/38691 (8%)]\tLoss: 1.384049\n",
      "Train [6400/38691 (17%)]\tLoss: 1.423370\n",
      "Train [9600/38691 (25%)]\tLoss: 1.484158\n",
      "Train [12800/38691 (33%)]\tLoss: 1.596725\n",
      "Train [16000/38691 (41%)]\tLoss: 1.693832\n",
      "Train [19200/38691 (50%)]\tLoss: 1.548809\n",
      "Train [22400/38691 (58%)]\tLoss: 1.597983\n",
      "Train [25600/38691 (66%)]\tLoss: 1.275909\n",
      "Train [28800/38691 (74%)]\tLoss: 1.363102\n",
      "Train [32000/38691 (83%)]\tLoss: 1.342998\n",
      "Train [35200/38691 (91%)]\tLoss: 1.500099\n",
      "Train [38400/38691 (99%)]\tLoss: 1.454694\n",
      "Train set: Average loss: 1.4301, Accuracy: 18875/38691 (48.78%)\n",
      "Validation set: Average loss: 1.4337, Accuracy: 2365/4836 (48.90%)\n",
      "\n",
      "Epoch:  9\n",
      "Train [0/38691 (0%)]\tLoss: 1.409533\n",
      "Train [3200/38691 (8%)]\tLoss: 1.389684\n",
      "Train [6400/38691 (17%)]\tLoss: 1.601937\n",
      "Train [9600/38691 (25%)]\tLoss: 1.436314\n",
      "Train [12800/38691 (33%)]\tLoss: 1.411972\n",
      "Train [16000/38691 (41%)]\tLoss: 1.438324\n",
      "Train [19200/38691 (50%)]\tLoss: 1.454415\n",
      "Train [22400/38691 (58%)]\tLoss: 1.484021\n",
      "Train [25600/38691 (66%)]\tLoss: 1.430367\n",
      "Train [28800/38691 (74%)]\tLoss: 1.481054\n",
      "Train [32000/38691 (83%)]\tLoss: 1.419768\n",
      "Train [35200/38691 (91%)]\tLoss: 1.570178\n",
      "Train [38400/38691 (99%)]\tLoss: 1.428040\n",
      "Train set: Average loss: 1.4230, Accuracy: 18977/38691 (49.05%)\n",
      "Validation set: Average loss: 1.4337, Accuracy: 2353/4836 (48.66%)\n",
      "\n",
      "Epoch:  10\n",
      "Train [0/38691 (0%)]\tLoss: 1.340004\n",
      "Train [3200/38691 (8%)]\tLoss: 1.412405\n",
      "Train [6400/38691 (17%)]\tLoss: 1.423231\n",
      "Train [9600/38691 (25%)]\tLoss: 1.425183\n",
      "Train [12800/38691 (33%)]\tLoss: 1.398746\n",
      "Train [16000/38691 (41%)]\tLoss: 1.637868\n",
      "Train [19200/38691 (50%)]\tLoss: 1.370895\n",
      "Train [22400/38691 (58%)]\tLoss: 1.211409\n"
     ]
    }
   ],
   "source": [
    "model = train_model(model, criterion, optimizer, exp_lr_scheduler,num_epochs=num_epochs)"
   ]
  },
  {
   "cell_type": "code",
   "execution_count": null,
   "metadata": {},
   "outputs": [],
   "source": []
  },
  {
   "cell_type": "code",
   "execution_count": null,
   "metadata": {},
   "outputs": [],
   "source": []
  },
  {
   "cell_type": "code",
   "execution_count": null,
   "metadata": {},
   "outputs": [],
   "source": []
  },
  {
   "cell_type": "code",
   "execution_count": null,
   "metadata": {},
   "outputs": [],
   "source": []
  },
  {
   "cell_type": "code",
   "execution_count": 22,
   "metadata": {},
   "outputs": [],
   "source": [
    "torch.save(model.state_dict(), \"./model_results/.pth\")"
   ]
  },
  {
   "cell_type": "code",
   "execution_count": 24,
   "metadata": {},
   "outputs": [],
   "source": [
    "from matplotlib import pyplot as plt"
   ]
  },
  {
   "cell_type": "code",
   "execution_count": 29,
   "metadata": {
    "scrolled": true
   },
   "outputs": [
    {
     "data": {
      "image/png": "[encoded data removed]",
      "text/plain": [
       "<Figure size 432x288 with 1 Axes>"
      ]
     },
     "metadata": {
      "needs_background": "light"
     },
     "output_type": "display_data"
    },
    {
     "data": {
      "image/png": "[encoded data removed]",
      "text/plain": [
       "<Figure size 432x288 with 1 Axes>"
      ]
     },
     "metadata": {
      "needs_background": "light"
     },
     "output_type": "display_data"
    },
    {
     "data": {
      "image/png": "[encoded data removed]",
      "text/plain": [
       "<Figure size 432x288 with 1 Axes>"
      ]
     },
     "metadata": {
      "needs_background": "light"
     },
     "output_type": "display_data"
    },
    {
     "data": {
      "image/png": "[encoded data removed]",
      "text/plain": [
       "<Figure size 432x288 with 1 Axes>"
      ]
     },
     "metadata": {
      "needs_background": "light"
     },
     "output_type": "display_data"
    },
    {
     "data": {
      "image/png": "[encoded data removed]",
      "text/plain": [
       "<Figure size 432x288 with 1 Axes>"
      ]
     },
     "metadata": {
      "needs_background": "light"
     },
     "output_type": "display_data"
    },
    {
     "data": {
      "image/png": "[encoded data removed]",
      "text/plain": [
       "<Figure size 432x288 with 1 Axes>"
      ]
     },
     "metadata": {
      "needs_background": "light"
     },
     "output_type": "display_data"
    }
   ],
   "source": [
    "visualize_model(model)"
   ]
  },
  {
   "cell_type": "markdown",
   "metadata": {},
   "source": [
    "# Test Performance\n"
   ]
  },
  {
   "cell_type": "code",
   "execution_count": 35,
   "metadata": {},
   "outputs": [
    {
     "name": "stdout",
     "output_type": "stream",
     "text": [
      "Test set: Average loss: 0.1706, Accuracy: 4563/4837 (94.34%)\n",
      "\n"
     ]
    }
   ],
   "source": [
    "test_performance(model)"
   ]
  }
 ],
 "metadata": {
  "kernelspec": {
   "display_name": "Python 3",
   "language": "python",
   "name": "python3"
  },
  "language_info": {
   "codemirror_mode": {
    "name": "ipython",
    "version": 3
   },
   "file_extension": ".py",
   "mimetype": "text/x-python",
   "name": "python",
   "nbconvert_exporter": "python",
   "pygments_lexer": "ipython3",
   "version": "3.7.7"
  }
 },
 "nbformat": 4,
 "nbformat_minor": 4
}
